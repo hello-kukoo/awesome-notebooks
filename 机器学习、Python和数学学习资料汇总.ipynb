{
 "cells": [
  {
   "cell_type": "markdown",
   "metadata": {
    "collapsed": true
   },
   "source": [
    "# 机器学习、Python和数学学习资料汇总"
   ]
  },
  {
   "cell_type": "markdown",
   "metadata": {
    "collapsed": true
   },
   "source": [
    "机器学习保罗万象，在学习这门技术时，最好可以有一些速查手册之类的东西在手边，它们列出了需要了解的关键点。[Robbie Allen](https://unsupervisedmethods.com/@robbieallen) 整理了20多个与机器学习相关的速查资料，并分享出来，或许也可以帮助其他学习这门技术的人。\n",
    "\n",
    "机器学习领域正发生着日新月异的变化，这些资料总有一天会过时，不过至少在目前看来，它们仍然十分有用。如果不想一个接一个地下载这些资料，可以从这里打包下载所有的资料。"
   ]
  },
  {
   "cell_type": "markdown",
   "metadata": {},
   "source": [
    "## 机器学习"
   ]
  },
  {
   "cell_type": "markdown",
   "metadata": {},
   "source": [
    "下面是机器学习算法的一些图表，非常有用。\n",
    "\n",
    "- 神经网络架构：http://www.asimovinstitute.org/neural-network-zoo/   \n",
    "- 微软Azure算法图表：https://docs.microsoft.com/en-us/azure/machine-learning/machine-learning-algorithm-cheat-sheet   \n",
    "- SAS算法图表：http://blogs.sas.com/content/subconsciousmusings/2017/04/12/machine-learning-algorithm-use/   \n",
    "- 算法总结：http://machinelearningmastery.com/a-tour-of-machine-learning-algorithms/    \n",
    "http://thinkbigdata.in/best-known-machine-learning-algorithms-infographic/    \n",
    "-   算法的优劣对比：https://blog.dataiku.com/machine-learning-explained-algorithms-are-your-friend\n",
    "\n"
   ]
  },
  {
   "cell_type": "markdown",
   "metadata": {},
   "source": [
    "## Python"
   ]
  },
  {
   "cell_type": "markdown",
   "metadata": {},
   "source": [
    "网络上有很多Python相关的学习课程，下面列出最好的部分资料。\n",
    "\n",
    "- 算法：https://www.analyticsvidhya.com/blog/2015/09/full-cheatsheet-machine-learning-algorithms/   \n",
    "- Python基础：\n",
    "    * http://datasciencefree.com/python.pdf    \n",
    "    * https://www.datacamp.com/community/tutorials/python-data-science-cheat-sheet-basics#gs.0x1rxEA    \n",
    "- Numpy：\n",
    "    * https://www.dataquest.io/blog/numpy-cheat-sheet/    \n",
    "    * http://datasciencefree.com/numpy.pdf    \n",
    "    * https://www.datacamp.com/community/blog/python-numpy-cheat-sheet#gs.Nw3V6CE    \n",
    "    * https://github.com/donnemartin/data-science-ipython-notebooks/blob/master/numpy/numpy.ipynb   \n",
    "- Pandas：\n",
    "    * http://datasciencefree.com/pandas.pdf   \n",
    "    * https://www.datacamp.com/community/blog/python-pandas-cheat-sheet#gs.S4P4T=U    \n",
    "    * https://github.com/donnemartin/data-science-ipython-notebooks/blob/master/pandas/pandas.ipynb     \n",
    "- Matplotlib：\n",
    "    * https://www.datacamp.com/community/blog/python-matplotlib-cheat-sheet     \n",
    "    * https://github.com/donnemartin/data-science-ipython-notebooks/blob/master/matplotlib/matplotlib.ipynb    \n",
    "- Scikit Learn：\n",
    "    * https://www.datacamp.com/community/blog/scikit-learn-cheat-sheet#gs.fZ2A1Jk    \n",
    "    * http://peekaboo-vision.blogspot.de/2013/01/machine-learning-cheat-sheet-for-scikit.html    \n",
    "    * https://github.com/rcompton/ml_cheat_sheet/blob/master/supervised_learning.ipynb   \n",
    "- TensorFlow：https://github.com/aymericdamien/TensorFlow-Examples/blob/master/notebooks/1_Introduction/basic_operations.ipynb   \n",
    "- PyTorch：https://github.com/bfortuner/pytorch-cheatsheet   "
   ]
  },
  {
   "cell_type": "markdown",
   "metadata": {},
   "source": [
    "## 数学"
   ]
  },
  {
   "cell_type": "markdown",
   "metadata": {},
   "source": [
    "如果要学习机器学习，需要了解统计学、线性代数和微积分。以下的资料可以帮助你很好地了解机器学习背后的数学。\n",
    "\n",
    "- 概率学：http://www.wzchen.com/s/probability_cheatsheet.pdf   \n",
    "- 线性代数：https://minireference.com/static/tutorials/linear_algebra_in_4_pages.pdf   \n",
    "- 统计学：http://web.mit.edu/~csvoss/Public/usabo/stats_handout.pdf   \n",
    "- 微积分：http://tutorial.math.lamar.edu/getfile.aspx?file=B,41,N   "
   ]
  },
  {
   "cell_type": "markdown",
   "metadata": {},
   "source": [
    "原文刊载于: [InfoQ](http://www.infoq.com/cn/news/2017/06/Machine-Python-math-aggregation)"
   ]
  },
  {
   "cell_type": "code",
   "execution_count": null,
   "metadata": {
    "collapsed": true
   },
   "outputs": [],
   "source": []
  }
 ],
 "metadata": {
  "kernelspec": {
   "display_name": "Python 3",
   "language": "python",
   "name": "python3"
  },
  "language_info": {
   "codemirror_mode": {
    "name": "ipython",
    "version": 3
   },
   "file_extension": ".py",
   "mimetype": "text/x-python",
   "name": "python",
   "nbconvert_exporter": "python",
   "pygments_lexer": "ipython3",
   "version": "3.6.0"
  }
 },
 "nbformat": 4,
 "nbformat_minor": 0
}
