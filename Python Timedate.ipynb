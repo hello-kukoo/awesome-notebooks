{
 "cells": [
  {
   "cell_type": "markdown",
   "metadata": {},
   "source": [
    "datetime模块定义了两个常量：`datetime.MINYEAR` 和 `datetime.MAXYEAR`，分别表示datetime所能表示的最小、最大年份。其中，`MINYEAR = 1`，`MAXYEAR = 9999`。\n",
    "\n",
    "###    datetime模块定义了下面这几个类：\n",
    "\n",
    "- datetime.date：表示日期的类。常用的属性有year, month, day；\n",
    "- datetime.time：表示时间的类。常用的属性有hour, minute, second, microsecond；\n",
    "- datetime.datetime：表示日期时间。\n",
    "- datetime.timedelta：表示时间间隔，即两个时间点之间的长度。\n",
    "- datetime.tzinfo：与时区有关的相关信息。（这里不详细充分讨论该类，感兴趣的童鞋可以参考python手册）\n",
    "\n",
    "    注 ：上面这些类型的对象都是不可变（immutable）的。"
   ]
  },
  {
   "cell_type": "markdown",
   "metadata": {},
   "source": [
    "### date类\n",
    "\n",
    "date类表示一个日期。日期由年、月、日组成。date类的构造函数如下：\n",
    "\n",
    "`class datetime.date(year, month, day)`\n",
    "\n",
    "只是有几点要注意一下：\n",
    "\n",
    "- year的范围是[MINYEAR, MAXYEAR]，即[1, 9999]；\n",
    "- month的范围是[1, 12]。（月份是从1开始的，不是从0开始的~_~）；\n",
    "- day的最大值根据给定的year, month参数来决定。例如闰年2月份有29天；\n",
    "\n",
    "date类定义了一些常用的类方法与类属性，方便我们操作：\n",
    "\n",
    "- `date.max`、`date.min`：date对象所能表示的最大、最小日期；\n",
    "- `date.resolution`：date对象表示日期的最小单位。这里是天。\n",
    "- `date.today()`：返回一个表示当前本地日期的date对象；\n",
    "- `date.fromtimestamp(timestamp)`：根据给定的时间戮，返回一个date对象；\n",
    "- `datetime.fromordinal(ordinal)`：将Gregorian日历时间转换为date对象；（Gregorian Calendar ：一种日历表示方法，类似于我国的农历。）"
   ]
  },
  {
   "cell_type": "code",
   "execution_count": 1,
   "metadata": {},
   "outputs": [
    {
     "name": "stdout",
     "output_type": "stream",
     "text": [
      "date.max: 9999-12-31\n",
      "data.min: 0001-01-01\n",
      "date.today() 2017-06-06\n",
      "date.fromtimestamp(): 2017-06-06\n"
     ]
    }
   ],
   "source": [
    "from datetime import *\n",
    "import time\n",
    "\n",
    "print('date.max:', date.max)\n",
    "print('data.min:', date.min)\n",
    "print('date.today()', date.today())\n",
    "print('date.fromtimestamp():', date.fromtimestamp(time.time()))"
   ]
  },
  {
   "cell_type": "markdown",
   "metadata": {},
   "source": [
    "date提供的实例方法和属性：\n",
    "\n",
    "- `date.year`、`date.month`、`date.day`：年、月、日；\n",
    "- `date.replace(year, month, day)`：生成一个新的日期对象，用参数指定的年，月，日代替原有对象中的属性。（原有对象仍保持不变）\n",
    "- `date.timetuple()`：返回日期对应的time.struct_time对象；\n",
    "- `date.toordinal()`：返回日期对应的Gregorian Calendar日期；\n",
    "- `date.weekday()`：返回weekday，如果是星期一，返回0；如果是星期2，返回1，以此类推；\n",
    "- `date.isoweekday()`：返回weekday，如果是星期一，返回1；如果是星期2，返回2，以此类推；\n",
    "- `date.isocalendar()`：返回格式如(year，month，day)的元组；\n",
    "- `date.isoformat()`：返回格式如'YYYY-MM-DD’的字符串；\n",
    "- `date.strftime(fmt)`：自定义格式化字符串"
   ]
  },
  {
   "cell_type": "code",
   "execution_count": 2,
   "metadata": {},
   "outputs": [
    {
     "name": "stdout",
     "output_type": "stream",
     "text": [
      "now: 2016-01-10 , tomorrow: 2016-01-11\n",
      "timetuple(): time.struct_time(tm_year=2016, tm_mon=1, tm_mday=10, tm_hour=0, tm_min=0, tm_sec=0, tm_wday=6, tm_yday=10, tm_isdst=-1)\n",
      "weekday(): 6\n",
      "isoweekday(): 7\n",
      "isocalendar(): (2016, 1, 7)\n",
      "isoformat(): 2016-01-10\n"
     ]
    }
   ],
   "source": [
    "now = date(2016, 1, 10)\n",
    "tomorrow = now.replace(day = 11)\n",
    "print('now:', now, ', tomorrow:', tomorrow)\n",
    "print('timetuple():', now.timetuple())\n",
    "print('weekday():', now.weekday())\n",
    "print('isoweekday():', now.isoweekday())\n",
    "print('isocalendar():', now.isocalendar())\n",
    "print('isoformat():', now.isoformat())"
   ]
  },
  {
   "cell_type": "markdown",
   "metadata": {},
   "source": [
    "### Time类\n",
    "\n",
    "time类表示时间，由时、分、秒以及微秒组成。（我不是从火星来的~~）time类的构造函数如下：\n",
    "\n",
    "`class datetime.time(hour[ , minute[ , second[ , microsecond[ , tzinfo] ] ] ] )` \n",
    "\n",
    "这里留意一下参数tzinfo，它表示时区信息。注意一下各参数的取值范围：hour的范围为[0, 24)，minute的范围为[0, 60)，second的范围为[0, 60)，microsecond的范围为[0, 1000000)。\n",
    "\n",
    "time类定义的类属性：\n",
    "\n",
    "- `time.min`、`time.max`：time类所能表示的最小、最大时间。其中，`time.min = time(0, 0, 0, 0)`， `time.max = time(23, 59, 59, 999999)`；\n",
    "- `time.resolution`：时间的最小单位，这里是1微秒；\n",
    "\n",
    "time类提供的实例方法和属性：\n",
    "\n",
    "- `time.hour`、`time.minute`、`time.second`、`time.microsecond`：时、分、秒、微秒；\n",
    "- `time.tzinfo`：时区信息；\n",
    "- `time.replace([ hour[ , minute[ , second[ , microsecond[ , tzinfo] ] ] ] ] )`：创建一个新的时间对象，用参数指定的时、分、秒、微秒代替原有对象中的属性（原有对象仍保持不变）；\n",
    "- `time.isoformat()`：返回型如\"HH:MM:SS\"格式的字符串表示；\n",
    "- `time.strftime(fmt)`：返回自定义格式化字符串。在下面详细介绍；"
   ]
  },
  {
   "cell_type": "markdown",
   "metadata": {},
   "source": [
    "### datetime类\n",
    "\n",
    "datetime是date与time的结合体，包括date与time的所有信息。它的构造函数如下：\n",
    "\n",
    "`datetime.datetime (year, month, day[ , hour[ , minute[ , second[ , microsecond[ , tzinfo] ] ] ] ] )`\n",
    "\n",
    "各参数的含义与date、time的构造函数中的一样，要注意参数值的范围。\n",
    "\n",
    "datetime类定义的类属性与方法：\n",
    "\n",
    "- `datetime.min`、`datetime.max`：datetime所能表示的最小值与最大值；\n",
    "- `datetime.resolution`：datetime最小单位；\n",
    "- `datetime.today()`：返回一个表示当前本地时间的datetime对象；\n",
    "- `datetime.now([tz])`：返回一个表示当前本地时间的datetime对象，如果提供了参数tz，则获取tz参数所指时区的本地时间；\n",
    "- `datetime.utcnow()`：返回一个当前utc时间的datetime对象；\n",
    "- `datetime.fromtimestamp(timestamp[, tz])`：根据时间戮创建一个datetime对象，参数tz指定时区信息；\n",
    "- `datetime.utcfromtimestamp(timestamp)`：根据时间戮创建一个datetime对象；\n",
    "- `datetime.combine(date, time)`：根据date和time，创建一个datetime对象；\n",
    "- `datetime.strptime(date_string, format)`：将格式字符串转换为datetime对象；\n"
   ]
  },
  {
   "cell_type": "markdown",
   "metadata": {},
   "source": [
    "### 转化为字符\n",
    "datetime、date、time都提供了strftime()方法，该方法接收一个格式字符串，输出日期时间的字符串表示。\n",
    "\n",
    "格式字符  意义\n",
    "\n",
    "- %a   星期的简写。如 星期三为Web\n",
    "- %A   星期的全写。如 星期三为Wednesday\n",
    "- %b   月份的简写。如4月份为Apr\n",
    "- %B   月份的全写。如4月份为April \n",
    "- %c:  日期时间的字符串表示。（如： 04/07/10 10:43:39）\n",
    "- %d:  日在这个月中的天数（是这个月的第几天）\n",
    "- %f:  微秒（范围[0,999999]）\n",
    "- %H:  小时（24小时制，[0, 23]）\n",
    "- %I:  小时（12小时制，[0, 11]）\n",
    "- %j:  日在年中的天数 [001,366]（是当年的第几天）\n",
    "- %m:  月份（[01,12]）\n",
    "- %M:  分钟（[00,59]）\n",
    "- %p:  AM或者PM\n",
    "- %S:  秒（范围为[00,61]，为什么不是[00, 59]，参考python手册~_~）\n",
    "- %U:  周在当年的周数当年的第几周），星期天作为周的第一天\n",
    "- %w:  今天在这周的天数，范围为[0, 6]，6表示星期天\n",
    "- %W:  周在当年的周数（是当年的第几周），星期一作为周的第一天\n",
    "- %x:  日期字符串（如：04/07/10）\n",
    "- %X:  时间字符串（如：10:43:39）\n",
    "- %y:  2个数字表示的年份\n",
    "- %Y:  4个数字表示的年份\n",
    "- %z:  与utc时间的间隔 （如果是本地时间，返回空字符串）\n",
    "- %Z:  时区名称（如果是本地时间，返回空字符串）\n",
    "- %%:  %% => %"
   ]
  },
  {
   "cell_type": "markdown",
   "metadata": {},
   "source": [
    "### timedelta\n",
    "\n",
    "`datetime.timedelta` 对象代表两个时间之间的的时间差，两个date或datetime对象相减时可以返回一个timedelta对象。\n",
    " \n",
    "构造函数：\n",
    "`class datetime.timedelta([days[, seconds[, microseconds[, milliseconds[, minutes[, hours[, weeks]]]]]]])`\n",
    "所有参数可选，且默认都是0，参数的值可以是整数，浮点数，正数或负数。\n",
    " \n",
    "内部只存储`days`，`seconds`，`microseconds`，其他参数的值会自动按如下规则抓转换：\n",
    " \n",
    "- 1 `millisecond`（毫秒） 转换成 1000 `microseconds`（微秒）\n",
    "- 1 `minute` 转换成 60 `seconds`\n",
    "- 1 `hour` 转换成 3600 `seconds`\n",
    "- 1 `week`转换成 7 `days`\n",
    "\n",
    "三个参数的取值范围分别为：\n",
    " \n",
    "- 0 <= microseconds < 1000000\n",
    "- 0 <= seconds < 3600*24 (the number of seconds in one day)\n",
    "- -999999999 <= days <= 999999999\n",
    "\n",
    "如果任意参数是float，且小数点后含有microseconds部分，那么microseconds的值为所有参数的微秒部分的总和（四舍五入）\n"
   ]
  },
  {
   "cell_type": "code",
   "execution_count": 3,
   "metadata": {},
   "outputs": [
    {
     "data": {
      "text/plain": [
       "200000"
      ]
     },
     "execution_count": 3,
     "metadata": {},
     "output_type": "execute_result"
    }
   ],
   "source": [
    "timedelta(hours=1.232, seconds=20).microseconds"
   ]
  },
  {
   "cell_type": "code",
   "execution_count": 4,
   "metadata": {},
   "outputs": [
    {
     "data": {
      "text/plain": [
       "500000"
      ]
     },
     "execution_count": 4,
     "metadata": {},
     "output_type": "execute_result"
    }
   ],
   "source": [
    "timedelta(hours=1.232, seconds=20.3).microseconds"
   ]
  },
  {
   "cell_type": "code",
   "execution_count": 5,
   "metadata": {},
   "outputs": [
    {
     "name": "stdout",
     "output_type": "stream",
     "text": [
      "10.001147\n"
     ]
    }
   ],
   "source": [
    "d1 = datetime.now()\n",
    "time.sleep(10)\n",
    "eclipseTimes = datetime.now() - d1\n",
    "print(eclipseTimes.total_seconds())"
   ]
  },
  {
   "cell_type": "code",
   "execution_count": 6,
   "metadata": {},
   "outputs": [
    {
     "name": "stdout",
     "output_type": "stream",
     "text": [
      "Admission Date: 2012-03-03 09:06:00 Discharge Date: 2012-03-10 11:15:20\n",
      "In hospital:  7  days.\n"
     ]
    }
   ],
   "source": [
    "admission_datetime = datetime.strptime('2012-03-03 09:06:00', '%Y-%m-%d %H:%M:%S')\n",
    "discharge_datetime = datetime.strptime('2012-03-10 11:15:20', '%Y-%m-%d %H:%M:%S')\n",
    "print(\"Admission Date:\", admission_datetime, \"Discharge Date:\", discharge_datetime)\n",
    "hospitality_days = discharge_datetime - admission_datetime\n",
    "print(\"In hospital: \", hospitality_days.days, \" days.\")"
   ]
  }
 ],
 "metadata": {
  "kernelspec": {
   "display_name": "Python 3",
   "language": "python",
   "name": "python3"
  },
  "language_info": {
   "codemirror_mode": {
    "name": "ipython",
    "version": 3
   },
   "file_extension": ".py",
   "mimetype": "text/x-python",
   "name": "python",
   "nbconvert_exporter": "python",
   "pygments_lexer": "ipython3",
   "version": "3.6.1"
  }
 },
 "nbformat": 4,
 "nbformat_minor": 1
}
